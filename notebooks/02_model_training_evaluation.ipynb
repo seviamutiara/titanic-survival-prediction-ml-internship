{
 "cells": [
  {
   "cell_type": "code",
   "execution_count": 1,
   "id": "5a3710cb-1138-4767-951d-2ee5d6d6735a",
   "metadata": {},
   "outputs": [],
   "source": [
    "import pandas as pd\n",
    "import numpy as np # <-- TAMBAHKAN INI\n",
    "import joblib\n",
    "from sklearn.model_selection import StratifiedKFold, cross_val_score\n",
    "from sklearn.linear_model import LogisticRegression\n",
    "from sklearn.ensemble import RandomForestClassifier, GradientBoostingClassifier\n",
    "from sklearn.metrics import accuracy_score, precision_score, recall_score, f1_score, roc_auc_score\n",
    "\n",
    "# Mengatur tampilan grafik agar lebih baik (opsional, jika Anda ingin visualisasi di sini)\n",
    "import matplotlib.pyplot as plt\n",
    "import seaborn as sns\n",
    "sns.set_style('whitegrid')\n",
    "plt.style.use('ggplot')"
   ]
  },
  {
   "cell_type": "code",
   "execution_count": 2,
   "id": "f56f6743-cc02-488a-a647-f12979ea6223",
   "metadata": {},
   "outputs": [
    {
     "name": "stdout",
     "output_type": "stream",
     "text": [
      "Data pelatihan siap. Bentuk: (891, 23)\n"
     ]
    }
   ],
   "source": [
    "# Muat data training mentah\n",
    "train_df_raw = pd.read_csv('../data/raw/train.csv')\n",
    "y_train_original = train_df_raw['Survived'] # Target variable\n",
    "\n",
    "# Muat scaler dan daftar kolom yang sudah disimpan dari preprocessing sebelumnya\n",
    "scaler = joblib.load('../models/scaler.pkl')\n",
    "features_columns = joblib.load('../models/features_columns.pkl')\n",
    "\n",
    "# --- Replikasi Preprocessing untuk mendapatkan X_train_processed dan y_train ---\n",
    "X_train_temp = train_df_raw.drop('Survived', axis=1).copy() # Salinan untuk preprocessing\n",
    "\n",
    "# Penanganan Missing Values (menggunakan median/mode dari train_df_raw)\n",
    "median_age_train = train_df_raw['Age'].median()\n",
    "mode_embarked_train = train_df_raw['Embarked'].mode()[0]\n",
    "median_fare_train = train_df_raw['Fare'].median()\n",
    "\n",
    "# Perbaikan FutureWarning: Gunakan penugasan langsung alih-alih inplace=True\n",
    "X_train_temp['Age'] = X_train_temp['Age'].fillna(median_age_train)\n",
    "X_train_temp['Embarked'] = X_train_temp['Embarked'].fillna(mode_embarked_train)\n",
    "X_train_temp['Fare'] = X_train_temp['Fare'].fillna(median_fare_train)\n",
    "\n",
    "\n",
    "# Feature Engineering\n",
    "X_train_temp['Title'] = X_train_temp['Name'].apply(lambda x: x.split(',')[1].split('.')[0].strip() if pd.notnull(x) and isinstance(x, str) and ',' in x and '.' in x else 'Rare')\n",
    "title_mapping = {\n",
    "    \"Mme\": \"Mrs\", \"Mlle\": \"Miss\", \"Ms\": \"Miss\", \"Lady\": \"Mrs\", \"Countess\": \"Mrs\",\n",
    "    \"Dona\": \"Mrs\", \"Sir\": \"Mr\", \"Don\": \"Mr\", \"Major\": \"Officer\", \"Col\": \"Officer\",\n",
    "    \"Capt\": \"Officer\", \"Dr\": \"Officer\", \"Rev\": \"Officer\", \"Jonkheer\": \"Rare\",\n",
    "    \"Mr\": \"Mr\", \"Mrs\": \"Mrs\", \"Miss\": \"Miss\", \"Master\": \"Master\"\n",
    "}\n",
    "X_train_temp['Title'] = X_train_temp['Title'].replace(title_mapping)\n",
    "X_train_temp['Title'] = X_train_temp['Title'].apply(lambda x: x if x in title_mapping.values() else 'Rare')\n",
    "\n",
    "X_train_temp['FamilySize'] = X_train_temp['SibSp'] + X_train_temp['Parch'] + 1\n",
    "X_train_temp['IsAlone'] = (X_train_temp['FamilySize'] == 1).astype(int)\n",
    "X_train_temp['Deck'] = X_train_temp['Cabin'].apply(lambda x: x[0] if pd.notnull(x) else 'U')\n",
    "\n",
    "X_train_temp['FarePerPerson'] = X_train_temp['Fare'] / X_train_temp['FamilySize']\n",
    "# Perbaikan FutureWarning: Gunakan penugasan langsung untuk replace dan fillna di sini juga\n",
    "X_train_temp['FarePerPerson'] = X_train_temp['FarePerPerson'].replace([np.inf, -np.inf], np.nan)\n",
    "X_train_temp['FarePerPerson'] = X_train_temp['FarePerPerson'].fillna(X_train_temp['FarePerPerson'].median())\n",
    "\n",
    "\n",
    "# Hapus Kolom Asli\n",
    "X_train_temp.drop(['Name', 'Ticket', 'Cabin', 'SibSp', 'Parch', 'PassengerId'], axis=1, inplace=True, errors='ignore')\n",
    "\n",
    "# One-Hot Encoding\n",
    "categorical_cols = ['Sex', 'Embarked', 'Pclass', 'Title', 'Deck']\n",
    "X_train_processed = pd.get_dummies(X_train_temp, columns=categorical_cols, drop_first=True)\n",
    "\n",
    "# Scaling Numerik (menggunakan scaler yang sudah di-fit dari notebook 01)\n",
    "numerical_cols_to_scale = ['Age', 'Fare', 'FamilySize', 'FarePerPerson']\n",
    "cols_to_scale_in_df = [col for col in numerical_cols_to_scale if col in X_train_processed.columns]\n",
    "X_train_processed[cols_to_scale_in_df] = scaler.transform(X_train_processed[cols_to_scale_in_df])\n",
    "\n",
    "# Penjajaran Kolom (SANGAT KRITIS): Pastikan urutan dan jumlah kolom sama dengan fitur_columns\n",
    "for col in features_columns:\n",
    "    if col not in X_train_processed.columns:\n",
    "        X_train_processed[col] = 0\n",
    "X_train_processed = X_train_processed[features_columns] # Pastikan urutan kolom sama persis\n",
    "\n",
    "y_train = y_train_original # Target variable\n",
    "\n",
    "print(f\"Data pelatihan siap. Bentuk: {X_train_processed.shape}\")"
   ]
  },
  {
   "cell_type": "code",
   "execution_count": 3,
   "id": "cc122128-01bb-47fb-8e08-eb62ab383bec",
   "metadata": {},
   "outputs": [
    {
     "name": "stdout",
     "output_type": "stream",
     "text": [
      "Model-model telah didefinisikan.\n"
     ]
    }
   ],
   "source": [
    "# Inisialisasi model-model yang akan diuji\n",
    "log_reg = LogisticRegression(random_state=42, solver='liblinear') # Logistic Regression: Model sederhana, cepat, bagus untuk baseline\n",
    "rf_clf = RandomForestClassifier(random_state=42, n_estimators=100) # Random Forest: Sekumpulan pohon keputusan, seringkali akurat\n",
    "gb_clf = GradientBoostingClassifier(random_state=42, n_estimators=100) # Gradient Boosting: Model kuat, belajar bertahap\n",
    "\n",
    "# Simpan model-model ini dalam sebuah dictionary agar mudah diakses\n",
    "models = {\n",
    "    'Logistic Regression': log_reg,\n",
    "    'Random Forest': rf_clf,\n",
    "    'Gradient Boosting': gb_clf\n",
    "}\n",
    "print(\"Model-model telah didefinisikan.\")"
   ]
  },
  {
   "cell_type": "code",
   "execution_count": 4,
   "id": "a1fe2c08-c68d-468c-8f2a-7cd62ede93d9",
   "metadata": {},
   "outputs": [
    {
     "name": "stdout",
     "output_type": "stream",
     "text": [
      "Memulai pelatihan dan evaluasi model dengan Cross-Validation...\n",
      "\n",
      "--- Melatih dan Mengevaluasi: Logistic Regression ---\n",
      "Logistic Regression - Rata-rata F1 Score: 0.7641\n",
      "Logistic Regression - Rata-rata Akurasi: 0.8249\n",
      "\n",
      "--- Melatih dan Mengevaluasi: Random Forest ---\n",
      "Random Forest - Rata-rata F1 Score: 0.7479\n",
      "Random Forest - Rata-rata Akurasi: 0.8103\n",
      "\n",
      "--- Melatih dan Mengevaluasi: Gradient Boosting ---\n",
      "Gradient Boosting - Rata-rata F1 Score: 0.7770\n",
      "Gradient Boosting - Rata-rata Akurasi: 0.8350\n",
      "\n"
     ]
    }
   ],
   "source": [
    "results = {} # Dictionary untuk menyimpan hasil evaluasi setiap model\n",
    "# StratifiedKFold memastikan pembagian data untuk cross-validation memiliki proporsi 'Selamat' dan 'Tidak Selamat' yang sama.\n",
    "skf = StratifiedKFold(n_splits=5, shuffle=True, random_state=42) # Bagi data jadi 5 bagian (folds)\n",
    "\n",
    "print(\"Memulai pelatihan dan evaluasi model dengan Cross-Validation...\\n\")\n",
    "\n",
    "for name, model in models.items(): # Iterasi melalui setiap model yang sudah didefinisikan\n",
    "    print(f\"--- Melatih dan Mengevaluasi: {name} ---\")\n",
    "\n",
    "    # Melakukan cross-validation dan mendapatkan skor untuk berbagai metrik\n",
    "    f1_scores = cross_val_score(model, X_train_processed, y_train, cv=skf, scoring='f1')\n",
    "    accuracy_scores = cross_val_score(model, X_train_processed, y_train, cv=skf, scoring='accuracy')\n",
    "    precision_scores = cross_val_score(model, X_train_processed, y_train, cv=skf, scoring='precision')\n",
    "    recall_scores = cross_val_score(model, X_train_processed, y_train, cv=skf, scoring='recall')\n",
    "    roc_auc_scores = cross_val_score(model, X_train_processed, y_train, cv=skf, scoring='roc_auc')\n",
    "\n",
    "    # Menyimpan rata-rata skor dari cross-validation\n",
    "    results[name] = {\n",
    "        'Accuracy': accuracy_scores.mean(),\n",
    "        'Precision': precision_scores.mean(),\n",
    "        'Recall': recall_scores.mean(),\n",
    "        'F1 Score': f1_scores.mean(),\n",
    "        'ROC AUC': roc_auc_scores.mean()\n",
    "    }\n",
    "    print(f\"{name} - Rata-rata F1 Score: {results[name]['F1 Score']:.4f}\")\n",
    "    print(f\"{name} - Rata-rata Akurasi: {results[name]['Accuracy']:.4f}\\n\")"
   ]
  },
  {
   "cell_type": "code",
   "execution_count": 5,
   "id": "f4f9680c-7541-4f0e-868f-b7818cd4b005",
   "metadata": {},
   "outputs": [
    {
     "name": "stdout",
     "output_type": "stream",
     "text": [
      "==============================\n",
      "Ringkasan Hasil Evaluasi Model:\n",
      "==============================\n",
      "Model: Logistic Regression\n",
      "  Accuracy: 0.8249\n",
      "  Precision: 0.7895\n",
      "  Recall: 0.7425\n",
      "  F1 Score: 0.7641\n",
      "  ROC AUC: 0.8706\n",
      "------------------------------\n",
      "Model: Random Forest\n",
      "  Accuracy: 0.8103\n",
      "  Precision: 0.7634\n",
      "  Recall: 0.7338\n",
      "  F1 Score: 0.7479\n",
      "  ROC AUC: 0.8749\n",
      "------------------------------\n",
      "Model: Gradient Boosting\n",
      "  Accuracy: 0.8350\n",
      "  Precision: 0.8102\n",
      "  Recall: 0.7485\n",
      "  F1 Score: 0.7770\n",
      "  ROC AUC: 0.8833\n",
      "------------------------------\n",
      "\n",
      "Model Terbaik Dipilih untuk Deployment: Gradient Boosting (F1 Score: 0.7770)\n"
     ]
    }
   ],
   "source": [
    "print(\"==============================\\nRingkasan Hasil Evaluasi Model:\\n==============================\")\n",
    "for name, metrics in results.items():\n",
    "    print(f\"Model: {name}\")\n",
    "    for metric, value in metrics.items():\n",
    "        print(f\"  {metric}: {value:.4f}\") # Tampilkan metrik dengan 4 angka di belakang koma\n",
    "    print(\"-\" * 30)\n",
    "\n",
    "# Pilih model terbaik berdasarkan F1 Score (karena F1 score adalah metrik yang baik untuk klasifikasi)\n",
    "best_model_name = max(results, key=lambda k: results[k]['F1 Score'])\n",
    "best_model = models[best_model_name]\n",
    "\n",
    "print(f\"\\nModel Terbaik Dipilih untuk Deployment: {best_model_name} (F1 Score: {results[best_model_name]['F1 Score']:.4f})\")"
   ]
  },
  {
   "cell_type": "code",
   "execution_count": 6,
   "id": "15e49f3d-7228-4fd4-ac96-8254f806545d",
   "metadata": {},
   "outputs": [
    {
     "name": "stdout",
     "output_type": "stream",
     "text": [
      "\n",
      "Melatih ulang 'Gradient Boosting' pada seluruh data training untuk finalisasi...\n",
      "Model 'Gradient Boosting' berhasil disimpan ke: models/best_titanic_model.pkl\n"
     ]
    }
   ],
   "source": [
    "print(f\"\\nMelatih ulang '{best_model_name}' pada seluruh data training untuk finalisasi...\")\n",
    "best_model.fit(X_train_processed, y_train) # Model dilatih di seluruh data training yang sudah diproses\n",
    "\n",
    "# Simpan model yang sudah dilatih ke folder 'models'\n",
    "joblib.dump(best_model, '../models/best_titanic_model.pkl')\n",
    "print(f\"Model '{best_model_name}' berhasil disimpan ke: models/best_titanic_model.pkl\")"
   ]
  },
  {
   "cell_type": "code",
   "execution_count": null,
   "id": "9245f90e-1ea5-4c80-b3be-59321b80e582",
   "metadata": {},
   "outputs": [],
   "source": []
  }
 ],
 "metadata": {
  "kernelspec": {
   "display_name": "Python 3 (ipykernel)",
   "language": "python",
   "name": "python3"
  },
  "language_info": {
   "codemirror_mode": {
    "name": "ipython",
    "version": 3
   },
   "file_extension": ".py",
   "mimetype": "text/x-python",
   "name": "python",
   "nbconvert_exporter": "python",
   "pygments_lexer": "ipython3",
   "version": "3.11.6"
  }
 },
 "nbformat": 4,
 "nbformat_minor": 5
}
